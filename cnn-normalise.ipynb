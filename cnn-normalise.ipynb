{
 "cells": [
  {
   "cell_type": "markdown",
   "metadata": {
    "id": "9Gk4yySBHPef"
   },
   "source": [
    "# cnn-normalise\n",
    "\n",
    "Use the \"Run\" button to execute the code."
   ]
  },
  {
   "cell_type": "code",
   "execution_count": 2,
   "metadata": {
    "executionInfo": {
     "elapsed": 3272,
     "status": "ok",
     "timestamp": 1626972549432,
     "user": {
      "displayName": "hexa Gaming",
      "photoUrl": "https://lh3.googleusercontent.com/a-/AOh14GioPiHsjshbRvilgujL55nxHkNzHM0CB_A9z5DBXA=s64",
      "userId": "11458632526511245276"
     },
     "user_tz": -330
    },
    "id": "zdQP5T2_HPeh"
   },
   "outputs": [],
   "source": [
    "!pip install jovian --upgrade --quiet"
   ]
  },
  {
   "cell_type": "code",
   "execution_count": 3,
   "metadata": {
    "executionInfo": {
     "elapsed": 481,
     "status": "ok",
     "timestamp": 1626972553263,
     "user": {
      "displayName": "hexa Gaming",
      "photoUrl": "https://lh3.googleusercontent.com/a-/AOh14GioPiHsjshbRvilgujL55nxHkNzHM0CB_A9z5DBXA=s64",
      "userId": "11458632526511245276"
     },
     "user_tz": -330
    },
    "id": "tbCqp35SHPeh"
   },
   "outputs": [],
   "source": [
    "import jovian"
   ]
  },
  {
   "cell_type": "code",
   "execution_count": null,
   "metadata": {
    "id": "foHaej6kHPei"
   },
   "outputs": [],
   "source": [
    "# Execute this to save new versions of the notebook\n",
    "jovian.commit(project=\"cnn-normalise\")"
   ]
  },
  {
   "cell_type": "code",
   "execution_count": 4,
   "metadata": {
    "executionInfo": {
     "elapsed": 4379,
     "status": "ok",
     "timestamp": 1626972560918,
     "user": {
      "displayName": "hexa Gaming",
      "photoUrl": "https://lh3.googleusercontent.com/a-/AOh14GioPiHsjshbRvilgujL55nxHkNzHM0CB_A9z5DBXA=s64",
      "userId": "11458632526511245276"
     },
     "user_tz": -330
    },
    "id": "Pw1eUQtkHPej"
   },
   "outputs": [],
   "source": [
    "import os\n",
    "import torch\n",
    "import torchvision\n",
    "import tarfile\n",
    "import torch.nn as nn\n",
    "import numpy as np\n",
    "import torch.nn.functional as F\n",
    "from torchvision.datasets.utils import download_url\n",
    "from torchvision.datasets import ImageFolder\n",
    "from torch.utils.data import DataLoader\n",
    "import torchvision.transforms as tt\n",
    "from torch.utils.data import random_split\n",
    "from torchvision.utils import make_grid\n",
    "import matplotlib\n",
    "import matplotlib.pyplot as plt\n",
    "%matplotlib inline\n",
    "\n",
    "matplotlib.rcParams['figure.facecolor'] = '#ffffff'"
   ]
  },
  {
   "cell_type": "code",
   "execution_count": 5,
   "metadata": {
    "executionInfo": {
     "elapsed": 489,
     "status": "ok",
     "timestamp": 1626972571708,
     "user": {
      "displayName": "hexa Gaming",
      "photoUrl": "https://lh3.googleusercontent.com/a-/AOh14GioPiHsjshbRvilgujL55nxHkNzHM0CB_A9z5DBXA=s64",
      "userId": "11458632526511245276"
     },
     "user_tz": -330
    },
    "id": "-zwcNq1BHkh6"
   },
   "outputs": [],
   "source": [
    "project_name='05b-cifar10-resnet'"
   ]
  },
  {
   "cell_type": "code",
   "execution_count": 6,
   "metadata": {
    "colab": {
     "base_uri": "https://localhost:8080/",
     "height": 116,
     "referenced_widgets": [
      "88e2f9f8294743aa93e2f91e8e482301",
      "c119857ab01e4cfeb50a884e0d6af227",
      "5cf5f1feb51f4eeeab94cb7ab7342f98",
      "dd4cef546bfd4e1b825fc82a2668f7b3",
      "4d5aa752daaf4f71b7b3999212cc8474",
      "29b0eb2994a243809fb5b5718bc97a72",
      "737c7ab7812c430c960898443ecf4e24",
      "35f2dfbe546a4048b7eb039c9f222e21"
     ]
    },
    "executionInfo": {
     "elapsed": 19834,
     "status": "ok",
     "timestamp": 1626972610802,
     "user": {
      "displayName": "hexa Gaming",
      "photoUrl": "https://lh3.googleusercontent.com/a-/AOh14GioPiHsjshbRvilgujL55nxHkNzHM0CB_A9z5DBXA=s64",
      "userId": "11458632526511245276"
     },
     "user_tz": -330
    },
    "id": "SpaVWlhVH0N_",
    "outputId": "daeeaa65-d965-4852-ff3f-80f691fa0ef8"
   },
   "outputs": [
    {
     "name": "stdout",
     "output_type": "stream",
     "text": [
      "Downloading https://s3.amazonaws.com/fast-ai-imageclas/cifar10.tgz to ./cifar10.tgz\n"
     ]
    },
    {
     "data": {
      "application/vnd.jupyter.widget-view+json": {
       "model_id": "88e2f9f8294743aa93e2f91e8e482301",
       "version_major": 2,
       "version_minor": 0
      },
      "text/plain": [
       "HBox(children=(FloatProgress(value=0.0, max=135107811.0), HTML(value='')))"
      ]
     },
     "metadata": {
      "tags": []
     },
     "output_type": "display_data"
    },
    {
     "name": "stdout",
     "output_type": "stream",
     "text": [
      "\n",
      "['test', 'train']\n",
      "['cat', 'truck', 'horse', 'ship', 'dog', 'automobile', 'deer', 'airplane', 'bird', 'frog']\n"
     ]
    }
   ],
   "source": [
    "from torchvision.datasets.utils import download_url\n",
    "\n",
    "\n",
    "# Dowload the dataset\n",
    "dataset_url = \"https://s3.amazonaws.com/fast-ai-imageclas/cifar10.tgz\"\n",
    "download_url(dataset_url, '.')\n",
    "\n",
    "# Extract from archive\n",
    "with tarfile.open('./cifar10.tgz', 'r:gz') as tar:\n",
    "    tar.extractall(path='./data')\n",
    "    \n",
    "# Look into the data directory\n",
    "data_dir = './data/cifar10'\n",
    "print(os.listdir(data_dir))\n",
    "classes = os.listdir(data_dir + \"/train\")\n",
    "print(classes)"
   ]
  },
  {
   "cell_type": "code",
   "execution_count": 7,
   "metadata": {
    "executionInfo": {
     "elapsed": 449,
     "status": "ok",
     "timestamp": 1626972646524,
     "user": {
      "displayName": "hexa Gaming",
      "photoUrl": "https://lh3.googleusercontent.com/a-/AOh14GioPiHsjshbRvilgujL55nxHkNzHM0CB_A9z5DBXA=s64",
      "userId": "11458632526511245276"
     },
     "user_tz": -330
    },
    "id": "YP5WfkimH5CO"
   },
   "outputs": [],
   "source": [
    "# Data transforms (normalization & data augmentation)\n",
    "stats = ((0.4914, 0.4822, 0.4465), (0.2023, 0.1994, 0.2010))\n",
    "train_tfms = tt.Compose([tt.RandomCrop(32, padding=4, padding_mode='reflect'), \n",
    "                         tt.RandomHorizontalFlip(), \n",
    "                         # tt.RandomRotate\n",
    "                         # tt.RandomResizedCrop(256, scale=(0.5,0.9), ratio=(1, 1)), \n",
    "                         # tt.ColorJitter(brightness=0.1, contrast=0.1, saturation=0.1, hue=0.1),\n",
    "                         tt.ToTensor(), \n",
    "                         tt.Normalize(*stats,inplace=True)])\n",
    "valid_tfms = tt.Compose([tt.ToTensor(), tt.Normalize(*stats)])"
   ]
  },
  {
   "cell_type": "code",
   "execution_count": 8,
   "metadata": {
    "executionInfo": {
     "elapsed": 543,
     "status": "ok",
     "timestamp": 1626972662265,
     "user": {
      "displayName": "hexa Gaming",
      "photoUrl": "https://lh3.googleusercontent.com/a-/AOh14GioPiHsjshbRvilgujL55nxHkNzHM0CB_A9z5DBXA=s64",
      "userId": "11458632526511245276"
     },
     "user_tz": -330
    },
    "id": "O09hBr80IGgV"
   },
   "outputs": [],
   "source": [
    "train_ds = ImageFolder(data_dir+'/train', train_tfms)\n",
    "valid_ds = ImageFolder(data_dir+'/test', valid_tfms)"
   ]
  },
  {
   "cell_type": "code",
   "execution_count": 9,
   "metadata": {
    "executionInfo": {
     "elapsed": 1079,
     "status": "ok",
     "timestamp": 1626972672087,
     "user": {
      "displayName": "hexa Gaming",
      "photoUrl": "https://lh3.googleusercontent.com/a-/AOh14GioPiHsjshbRvilgujL55nxHkNzHM0CB_A9z5DBXA=s64",
      "userId": "11458632526511245276"
     },
     "user_tz": -330
    },
    "id": "mVy9chJ3IJ9_"
   },
   "outputs": [],
   "source": [
    "batch_size = 400"
   ]
  },
  {
   "cell_type": "code",
   "execution_count": 10,
   "metadata": {
    "colab": {
     "base_uri": "https://localhost:8080/"
    },
    "executionInfo": {
     "elapsed": 491,
     "status": "ok",
     "timestamp": 1626972685246,
     "user": {
      "displayName": "hexa Gaming",
      "photoUrl": "https://lh3.googleusercontent.com/a-/AOh14GioPiHsjshbRvilgujL55nxHkNzHM0CB_A9z5DBXA=s64",
      "userId": "11458632526511245276"
     },
     "user_tz": -330
    },
    "id": "LT6Ko9AnIMlG",
    "outputId": "e3f4ed8b-17ac-4319-a875-844521b616e5"
   },
   "outputs": [
    {
     "name": "stderr",
     "output_type": "stream",
     "text": [
      "/usr/local/lib/python3.7/dist-packages/torch/utils/data/dataloader.py:481: UserWarning: This DataLoader will create 3 worker processes in total. Our suggested max number of worker in current system is 2, which is smaller than what this DataLoader is going to create. Please be aware that excessive worker creation might get DataLoader running slow or even freeze, lower the worker number to avoid potential slowness/freeze if necessary.\n",
      "  cpuset_checked))\n"
     ]
    }
   ],
   "source": [
    "# PyTorch data loaders\n",
    "train_dl = DataLoader(train_ds, batch_size, shuffle=True, num_workers=3, pin_memory=True)\n",
    "valid_dl = DataLoader(valid_ds, batch_size*2, num_workers=3, pin_memory=True)"
   ]
  },
  {
   "cell_type": "code",
   "execution_count": 11,
   "metadata": {
    "executionInfo": {
     "elapsed": 1750,
     "status": "ok",
     "timestamp": 1626972711229,
     "user": {
      "displayName": "hexa Gaming",
      "photoUrl": "https://lh3.googleusercontent.com/a-/AOh14GioPiHsjshbRvilgujL55nxHkNzHM0CB_A9z5DBXA=s64",
      "userId": "11458632526511245276"
     },
     "user_tz": -330
    },
    "id": "tf5cxSwYIP8P"
   },
   "outputs": [],
   "source": [
    "def denormalize(images, means, stds):\n",
    "    means = torch.tensor(means).reshape(1, 3, 1, 1)\n",
    "    stds = torch.tensor(stds).reshape(1, 3, 1, 1)\n",
    "    return images * stds + means\n",
    "\n",
    "def show_batch(dl):\n",
    "    for images, labels in dl:\n",
    "        fig, ax = plt.subplots(figsize=(12, 12))\n",
    "        ax.set_xticks([]); ax.set_yticks([])\n",
    "        denorm_images = denormalize(images, *stats)\n",
    "        ax.imshow(make_grid(denorm_images[:64], nrow=8).permute(1, 2, 0).clamp(0,1))\n",
    "        break"
   ]
  },
  {
   "cell_type": "code",
   "execution_count": 13,
   "metadata": {
    "executionInfo": {
     "elapsed": 490,
     "status": "ok",
     "timestamp": 1626972730897,
     "user": {
      "displayName": "hexa Gaming",
      "photoUrl": "https://lh3.googleusercontent.com/a-/AOh14GioPiHsjshbRvilgujL55nxHkNzHM0CB_A9z5DBXA=s64",
      "userId": "11458632526511245276"
     },
     "user_tz": -330
    },
    "id": "i9IVNyvuIV_J"
   },
   "outputs": [],
   "source": [
    "#show_batch(train_dl)"
   ]
  },
  {
   "cell_type": "code",
   "execution_count": 14,
   "metadata": {
    "executionInfo": {
     "elapsed": 459,
     "status": "ok",
     "timestamp": 1626972757701,
     "user": {
      "displayName": "hexa Gaming",
      "photoUrl": "https://lh3.googleusercontent.com/a-/AOh14GioPiHsjshbRvilgujL55nxHkNzHM0CB_A9z5DBXA=s64",
      "userId": "11458632526511245276"
     },
     "user_tz": -330
    },
    "id": "bVoqNrSeIZP0"
   },
   "outputs": [],
   "source": [
    "def get_default_device():\n",
    "    \"\"\"Pick GPU if available, else CPU\"\"\"\n",
    "    if torch.cuda.is_available():\n",
    "        return torch.device('cuda')\n",
    "    else:\n",
    "        return torch.device('cpu')\n",
    "    \n",
    "def to_device(data, device):\n",
    "    \"\"\"Move tensor(s) to chosen device\"\"\"\n",
    "    if isinstance(data, (list,tuple)):\n",
    "        return [to_device(x, device) for x in data]\n",
    "    return data.to(device, non_blocking=True)\n",
    "\n",
    "class DeviceDataLoader():\n",
    "    \"\"\"Wrap a dataloader to move data to a device\"\"\"\n",
    "    def __init__(self, dl, device):\n",
    "        self.dl = dl\n",
    "        self.device = device\n",
    "        \n",
    "    def __iter__(self):\n",
    "        \"\"\"Yield a batch of data after moving it to device\"\"\"\n",
    "        for b in self.dl: \n",
    "            yield to_device(b, self.device)\n",
    "\n",
    "    def __len__(self):\n",
    "        \"\"\"Number of batches\"\"\"\n",
    "        return len(self.dl)"
   ]
  },
  {
   "cell_type": "code",
   "execution_count": 15,
   "metadata": {
    "colab": {
     "base_uri": "https://localhost:8080/"
    },
    "executionInfo": {
     "elapsed": 489,
     "status": "ok",
     "timestamp": 1626972772141,
     "user": {
      "displayName": "hexa Gaming",
      "photoUrl": "https://lh3.googleusercontent.com/a-/AOh14GioPiHsjshbRvilgujL55nxHkNzHM0CB_A9z5DBXA=s64",
      "userId": "11458632526511245276"
     },
     "user_tz": -330
    },
    "id": "F8b8RUGqIho_",
    "outputId": "21c080f1-a2a9-495b-dd32-a3062f96e3dc"
   },
   "outputs": [
    {
     "data": {
      "text/plain": [
       "device(type='cuda')"
      ]
     },
     "execution_count": 15,
     "metadata": {
      "tags": []
     },
     "output_type": "execute_result"
    }
   ],
   "source": [
    "device = get_default_device()\n",
    "device"
   ]
  },
  {
   "cell_type": "code",
   "execution_count": 16,
   "metadata": {
    "executionInfo": {
     "elapsed": 502,
     "status": "ok",
     "timestamp": 1626972786796,
     "user": {
      "displayName": "hexa Gaming",
      "photoUrl": "https://lh3.googleusercontent.com/a-/AOh14GioPiHsjshbRvilgujL55nxHkNzHM0CB_A9z5DBXA=s64",
      "userId": "11458632526511245276"
     },
     "user_tz": -330
    },
    "id": "1bau5gPjIlKe"
   },
   "outputs": [],
   "source": [
    "train_dl = DeviceDataLoader(train_dl, device)\n",
    "valid_dl = DeviceDataLoader(valid_dl, device)"
   ]
  },
  {
   "cell_type": "code",
   "execution_count": 17,
   "metadata": {
    "executionInfo": {
     "elapsed": 1473,
     "status": "ok",
     "timestamp": 1626972829032,
     "user": {
      "displayName": "hexa Gaming",
      "photoUrl": "https://lh3.googleusercontent.com/a-/AOh14GioPiHsjshbRvilgujL55nxHkNzHM0CB_A9z5DBXA=s64",
      "userId": "11458632526511245276"
     },
     "user_tz": -330
    },
    "id": "lQ7bItlnIotJ"
   },
   "outputs": [],
   "source": [
    "class SimpleResidualBlock(nn.Module):\n",
    "    def __init__(self):\n",
    "        super().__init__()\n",
    "        self.conv1 = nn.Conv2d(in_channels=3, out_channels=3, kernel_size=3, stride=1, padding=1)\n",
    "        self.relu1 = nn.ReLU()\n",
    "        self.conv2 = nn.Conv2d(in_channels=3, out_channels=3, kernel_size=3, stride=1, padding=1)\n",
    "        self.relu2 = nn.ReLU()\n",
    "        \n",
    "    def forward(self, x):\n",
    "        out = self.conv1(x)\n",
    "        out = self.relu1(out)\n",
    "        out = self.conv2(out)\n",
    "        return self.relu2(out) + x # ReLU can be applied before or after adding the input"
   ]
  },
  {
   "cell_type": "code",
   "execution_count": 18,
   "metadata": {
    "colab": {
     "base_uri": "https://localhost:8080/"
    },
    "executionInfo": {
     "elapsed": 1622,
     "status": "ok",
     "timestamp": 1626972842148,
     "user": {
      "displayName": "hexa Gaming",
      "photoUrl": "https://lh3.googleusercontent.com/a-/AOh14GioPiHsjshbRvilgujL55nxHkNzHM0CB_A9z5DBXA=s64",
      "userId": "11458632526511245276"
     },
     "user_tz": -330
    },
    "id": "GHkehfskIyzI",
    "outputId": "9c389026-0618-400e-f6fe-b24587f0d6b8"
   },
   "outputs": [
    {
     "name": "stderr",
     "output_type": "stream",
     "text": [
      "/usr/local/lib/python3.7/dist-packages/torch/utils/data/dataloader.py:481: UserWarning: This DataLoader will create 3 worker processes in total. Our suggested max number of worker in current system is 2, which is smaller than what this DataLoader is going to create. Please be aware that excessive worker creation might get DataLoader running slow or even freeze, lower the worker number to avoid potential slowness/freeze if necessary.\n",
      "  cpuset_checked))\n"
     ]
    },
    {
     "name": "stdout",
     "output_type": "stream",
     "text": [
      "torch.Size([400, 3, 32, 32])\n"
     ]
    }
   ],
   "source": [
    "simple_resnet = to_device(SimpleResidualBlock(), device)\n",
    "\n",
    "for images, labels in train_dl:\n",
    "    out = simple_resnet(images)\n",
    "    print(out.shape)\n",
    "    break\n",
    "    \n",
    "del simple_resnet, images, labels\n",
    "torch.cuda.empty_cache()"
   ]
  },
  {
   "cell_type": "code",
   "execution_count": 20,
   "metadata": {
    "executionInfo": {
     "elapsed": 473,
     "status": "ok",
     "timestamp": 1626973128062,
     "user": {
      "displayName": "hexa Gaming",
      "photoUrl": "https://lh3.googleusercontent.com/a-/AOh14GioPiHsjshbRvilgujL55nxHkNzHM0CB_A9z5DBXA=s64",
      "userId": "11458632526511245276"
     },
     "user_tz": -330
    },
    "id": "fG1fgfi_I18W"
   },
   "outputs": [],
   "source": [
    "def accuracy(outputs, labels):\n",
    "    _, preds = torch.max(outputs, dim=1)\n",
    "    return torch.tensor(torch.sum(preds == labels).item() / len(preds))\n",
    "\n",
    "class ImageClassificationBase(nn.Module):\n",
    "    def training_step(self, batch):\n",
    "        images, labels = batch \n",
    "        out = self(images)                  # Generate predictions\n",
    "        loss = F.cross_entropy(out, labels) # Calculate loss\n",
    "        return loss\n",
    "    \n",
    "    def validation_step(self, batch):\n",
    "        images, labels = batch \n",
    "        out = self(images)                    # Generate predictions\n",
    "        loss = F.cross_entropy(out, labels)   # Calculate loss\n",
    "        acc = accuracy(out, labels)           # Calculate accuracy\n",
    "        return {'val_loss': loss.detach(), 'val_acc': acc}\n",
    "\n",
    "    def validation_epoch_end(self, outputs):\n",
    "      batch_losses = [x['val_loss'] for x in outputs]\n",
    "      epoch_loss = torch.stack(batch_losses).mean()   # Combine losses\n",
    "      batch_accs = [x['val_acc'] for x in outputs]\n",
    "      epoch_acc = torch.stack(batch_accs).mean()      # Combine accuracies\n",
    "      return {'val_loss': epoch_loss.item(), 'val_acc': epoch_acc.item()}\n",
    "    \n",
    "    def epoch_end(self, epoch, result):\n",
    "        print(\"Epoch [{}], last_lr: {:.5f}, train_loss: {:.4f}, val_loss: {:.4f}, val_acc: {:.4f}\".format(\n",
    "            epoch, result['lrs'][-1], result['train_loss'], result['val_loss'], result['val_acc']))"
   ]
  },
  {
   "cell_type": "code",
   "execution_count": 21,
   "metadata": {
    "executionInfo": {
     "elapsed": 455,
     "status": "ok",
     "timestamp": 1626973160636,
     "user": {
      "displayName": "hexa Gaming",
      "photoUrl": "https://lh3.googleusercontent.com/a-/AOh14GioPiHsjshbRvilgujL55nxHkNzHM0CB_A9z5DBXA=s64",
      "userId": "11458632526511245276"
     },
     "user_tz": -330
    },
    "id": "j16BSO0fJuJP"
   },
   "outputs": [],
   "source": [
    "def conv_block(in_channels, out_channels, pool=False):\n",
    "    layers = [nn.Conv2d(in_channels, out_channels, kernel_size=3, padding=1), \n",
    "              nn.BatchNorm2d(out_channels), \n",
    "              nn.ReLU(inplace=True)]\n",
    "    if pool: layers.append(nn.MaxPool2d(2))\n",
    "    return nn.Sequential(*layers)\n",
    "\n",
    "class ResNet9(ImageClassificationBase):\n",
    "    def __init__(self, in_channels, num_classes):\n",
    "        super().__init__()\n",
    "        \n",
    "        self.conv1 = conv_block(in_channels, 64)\n",
    "        self.conv2 = conv_block(64, 128, pool=True)\n",
    "        self.res1 = nn.Sequential(conv_block(128, 128), conv_block(128, 128))\n",
    "        \n",
    "        self.conv3 = conv_block(128, 256, pool=True)\n",
    "        self.conv4 = conv_block(256, 512, pool=True)\n",
    "        self.res2 = nn.Sequential(conv_block(512, 512), conv_block(512, 512))\n",
    "        \n",
    "        self.classifier = nn.Sequential(nn.MaxPool2d(4), \n",
    "                                        nn.Flatten(), \n",
    "                                        nn.Dropout(0.2),\n",
    "                                        nn.Linear(512, num_classes))\n",
    "        \n",
    "    def forward(self, xb):\n",
    "        out = self.conv1(xb)\n",
    "        out = self.conv2(out)\n",
    "        out = self.res1(out) + out\n",
    "        out = self.conv3(out)\n",
    "        out = self.conv4(out)\n",
    "        out = self.res2(out) + out\n",
    "        out = self.classifier(out)\n",
    "        return out"
   ]
  },
  {
   "cell_type": "code",
   "execution_count": 22,
   "metadata": {
    "colab": {
     "base_uri": "https://localhost:8080/"
    },
    "executionInfo": {
     "elapsed": 434,
     "status": "ok",
     "timestamp": 1626973175078,
     "user": {
      "displayName": "hexa Gaming",
      "photoUrl": "https://lh3.googleusercontent.com/a-/AOh14GioPiHsjshbRvilgujL55nxHkNzHM0CB_A9z5DBXA=s64",
      "userId": "11458632526511245276"
     },
     "user_tz": -330
    },
    "id": "IDiuMSgcKEBE",
    "outputId": "d1ae73f3-bdaa-4a54-ef67-80aa5ae87a87"
   },
   "outputs": [
    {
     "data": {
      "text/plain": [
       "ResNet9(\n",
       "  (conv1): Sequential(\n",
       "    (0): Conv2d(3, 64, kernel_size=(3, 3), stride=(1, 1), padding=(1, 1))\n",
       "    (1): BatchNorm2d(64, eps=1e-05, momentum=0.1, affine=True, track_running_stats=True)\n",
       "    (2): ReLU(inplace=True)\n",
       "  )\n",
       "  (conv2): Sequential(\n",
       "    (0): Conv2d(64, 128, kernel_size=(3, 3), stride=(1, 1), padding=(1, 1))\n",
       "    (1): BatchNorm2d(128, eps=1e-05, momentum=0.1, affine=True, track_running_stats=True)\n",
       "    (2): ReLU(inplace=True)\n",
       "    (3): MaxPool2d(kernel_size=2, stride=2, padding=0, dilation=1, ceil_mode=False)\n",
       "  )\n",
       "  (res1): Sequential(\n",
       "    (0): Sequential(\n",
       "      (0): Conv2d(128, 128, kernel_size=(3, 3), stride=(1, 1), padding=(1, 1))\n",
       "      (1): BatchNorm2d(128, eps=1e-05, momentum=0.1, affine=True, track_running_stats=True)\n",
       "      (2): ReLU(inplace=True)\n",
       "    )\n",
       "    (1): Sequential(\n",
       "      (0): Conv2d(128, 128, kernel_size=(3, 3), stride=(1, 1), padding=(1, 1))\n",
       "      (1): BatchNorm2d(128, eps=1e-05, momentum=0.1, affine=True, track_running_stats=True)\n",
       "      (2): ReLU(inplace=True)\n",
       "    )\n",
       "  )\n",
       "  (conv3): Sequential(\n",
       "    (0): Conv2d(128, 256, kernel_size=(3, 3), stride=(1, 1), padding=(1, 1))\n",
       "    (1): BatchNorm2d(256, eps=1e-05, momentum=0.1, affine=True, track_running_stats=True)\n",
       "    (2): ReLU(inplace=True)\n",
       "    (3): MaxPool2d(kernel_size=2, stride=2, padding=0, dilation=1, ceil_mode=False)\n",
       "  )\n",
       "  (conv4): Sequential(\n",
       "    (0): Conv2d(256, 512, kernel_size=(3, 3), stride=(1, 1), padding=(1, 1))\n",
       "    (1): BatchNorm2d(512, eps=1e-05, momentum=0.1, affine=True, track_running_stats=True)\n",
       "    (2): ReLU(inplace=True)\n",
       "    (3): MaxPool2d(kernel_size=2, stride=2, padding=0, dilation=1, ceil_mode=False)\n",
       "  )\n",
       "  (res2): Sequential(\n",
       "    (0): Sequential(\n",
       "      (0): Conv2d(512, 512, kernel_size=(3, 3), stride=(1, 1), padding=(1, 1))\n",
       "      (1): BatchNorm2d(512, eps=1e-05, momentum=0.1, affine=True, track_running_stats=True)\n",
       "      (2): ReLU(inplace=True)\n",
       "    )\n",
       "    (1): Sequential(\n",
       "      (0): Conv2d(512, 512, kernel_size=(3, 3), stride=(1, 1), padding=(1, 1))\n",
       "      (1): BatchNorm2d(512, eps=1e-05, momentum=0.1, affine=True, track_running_stats=True)\n",
       "      (2): ReLU(inplace=True)\n",
       "    )\n",
       "  )\n",
       "  (classifier): Sequential(\n",
       "    (0): MaxPool2d(kernel_size=4, stride=4, padding=0, dilation=1, ceil_mode=False)\n",
       "    (1): Flatten(start_dim=1, end_dim=-1)\n",
       "    (2): Dropout(p=0.2, inplace=False)\n",
       "    (3): Linear(in_features=512, out_features=10, bias=True)\n",
       "  )\n",
       ")"
      ]
     },
     "execution_count": 22,
     "metadata": {
      "tags": []
     },
     "output_type": "execute_result"
    }
   ],
   "source": [
    "model = to_device(ResNet9(3, 10), device)\n",
    "model"
   ]
  },
  {
   "cell_type": "code",
   "execution_count": 23,
   "metadata": {
    "executionInfo": {
     "elapsed": 443,
     "status": "ok",
     "timestamp": 1626973246924,
     "user": {
      "displayName": "hexa Gaming",
      "photoUrl": "https://lh3.googleusercontent.com/a-/AOh14GioPiHsjshbRvilgujL55nxHkNzHM0CB_A9z5DBXA=s64",
      "userId": "11458632526511245276"
     },
     "user_tz": -330
    },
    "id": "oaynpAH1KHi_"
   },
   "outputs": [],
   "source": [
    "@torch.no_grad()\n",
    "def evaluate(model, val_loader):\n",
    "    model.eval()\n",
    "    outputs = [model.validation_step(batch) for batch in val_loader]\n",
    "    return model.validation_epoch_end(outputs)\n",
    "\n",
    "def get_lr(optimizer):\n",
    "    for param_group in optimizer.param_groups:\n",
    "        return param_group['lr']\n",
    "\n",
    "def fit_one_cycle(epochs, max_lr, model, train_loader, val_loader, \n",
    "                  weight_decay=0, grad_clip=None, opt_func=torch.optim.SGD):\n",
    "    torch.cuda.empty_cache()\n",
    "    history = []\n",
    "    \n",
    "    # Set up cutom optimizer with weight decay\n",
    "    optimizer = opt_func(model.parameters(), max_lr, weight_decay=weight_decay)\n",
    "    # Set up one-cycle learning rate scheduler\n",
    "    sched = torch.optim.lr_scheduler.OneCycleLR(optimizer, max_lr, epochs=epochs, \n",
    "                                                steps_per_epoch=len(train_loader))\n",
    "    \n",
    "    for epoch in range(epochs):\n",
    "        # Training Phase \n",
    "        model.train()\n",
    "        train_losses = []\n",
    "        lrs = []\n",
    "        for batch in train_loader:\n",
    "            loss = model.training_step(batch)\n",
    "            train_losses.append(loss)\n",
    "            loss.backward()\n",
    "            \n",
    "            # Gradient clipping\n",
    "            if grad_clip: \n",
    "                nn.utils.clip_grad_value_(model.parameters(), grad_clip)\n",
    "            \n",
    "            optimizer.step()\n",
    "            optimizer.zero_grad()\n",
    "            \n",
    "            # Record & update learning rate\n",
    "            lrs.append(get_lr(optimizer))\n",
    "            sched.step()\n",
    "        \n",
    "        # Validation phase\n",
    "        result = evaluate(model, val_loader)\n",
    "        result['train_loss'] = torch.stack(train_losses).mean().item()\n",
    "        result['lrs'] = lrs\n",
    "        model.epoch_end(epoch, result)\n",
    "        history.append(result)\n",
    "    return history"
   ]
  },
  {
   "cell_type": "code",
   "execution_count": 24,
   "metadata": {
    "colab": {
     "base_uri": "https://localhost:8080/"
    },
    "executionInfo": {
     "elapsed": 4204,
     "status": "ok",
     "timestamp": 1626973270839,
     "user": {
      "displayName": "hexa Gaming",
      "photoUrl": "https://lh3.googleusercontent.com/a-/AOh14GioPiHsjshbRvilgujL55nxHkNzHM0CB_A9z5DBXA=s64",
      "userId": "11458632526511245276"
     },
     "user_tz": -330
    },
    "id": "blwbJ-KyKZDT",
    "outputId": "77b6a560-a7f8-4db6-840b-9e9ae19df95b"
   },
   "outputs": [
    {
     "name": "stderr",
     "output_type": "stream",
     "text": [
      "/usr/local/lib/python3.7/dist-packages/torch/utils/data/dataloader.py:481: UserWarning: This DataLoader will create 3 worker processes in total. Our suggested max number of worker in current system is 2, which is smaller than what this DataLoader is going to create. Please be aware that excessive worker creation might get DataLoader running slow or even freeze, lower the worker number to avoid potential slowness/freeze if necessary.\n",
      "  cpuset_checked))\n",
      "/usr/local/lib/python3.7/dist-packages/torch/nn/functional.py:718: UserWarning: Named tensors and all their associated APIs are an experimental feature and subject to change. Please do not use them for anything important until they are released as stable. (Triggered internally at  /pytorch/c10/core/TensorImpl.h:1156.)\n",
      "  return torch.max_pool2d(input, kernel_size, stride, padding, dilation, ceil_mode)\n"
     ]
    },
    {
     "data": {
      "text/plain": [
       "[{'val_acc': 0.08442307263612747, 'val_loss': 2.3103959560394287}]"
      ]
     },
     "execution_count": 24,
     "metadata": {
      "tags": []
     },
     "output_type": "execute_result"
    }
   ],
   "source": [
    "history = [evaluate(model, valid_dl)]\n",
    "history"
   ]
  },
  {
   "cell_type": "code",
   "execution_count": 25,
   "metadata": {
    "executionInfo": {
     "elapsed": 621,
     "status": "ok",
     "timestamp": 1626973285916,
     "user": {
      "displayName": "hexa Gaming",
      "photoUrl": "https://lh3.googleusercontent.com/a-/AOh14GioPiHsjshbRvilgujL55nxHkNzHM0CB_A9z5DBXA=s64",
      "userId": "11458632526511245276"
     },
     "user_tz": -330
    },
    "id": "3qhbBZdiKd4Q"
   },
   "outputs": [],
   "source": [
    "epochs = 8\n",
    "max_lr = 0.01\n",
    "grad_clip = 0.1\n",
    "weight_decay = 1e-4\n",
    "opt_func = torch.optim.Adam"
   ]
  },
  {
   "cell_type": "code",
   "execution_count": 26,
   "metadata": {
    "colab": {
     "base_uri": "https://localhost:8080/"
    },
    "executionInfo": {
     "elapsed": 280357,
     "status": "ok",
     "timestamp": 1626973576972,
     "user": {
      "displayName": "hexa Gaming",
      "photoUrl": "https://lh3.googleusercontent.com/a-/AOh14GioPiHsjshbRvilgujL55nxHkNzHM0CB_A9z5DBXA=s64",
      "userId": "11458632526511245276"
     },
     "user_tz": -330
    },
    "id": "yFz1pSqmKikV",
    "outputId": "1965fc5c-b676-43b1-8f0c-7de1002d109b"
   },
   "outputs": [
    {
     "name": "stderr",
     "output_type": "stream",
     "text": [
      "/usr/local/lib/python3.7/dist-packages/torch/utils/data/dataloader.py:481: UserWarning: This DataLoader will create 3 worker processes in total. Our suggested max number of worker in current system is 2, which is smaller than what this DataLoader is going to create. Please be aware that excessive worker creation might get DataLoader running slow or even freeze, lower the worker number to avoid potential slowness/freeze if necessary.\n",
      "  cpuset_checked))\n"
     ]
    },
    {
     "name": "stdout",
     "output_type": "stream",
     "text": [
      "Epoch [0], last_lr: 0.00393, train_loss: 1.4959, val_loss: 1.2523, val_acc: 0.5861\n",
      "Epoch [1], last_lr: 0.00935, train_loss: 1.0904, val_loss: 1.7945, val_acc: 0.5301\n",
      "Epoch [2], last_lr: 0.00972, train_loss: 0.8456, val_loss: 1.1075, val_acc: 0.6538\n",
      "Epoch [3], last_lr: 0.00812, train_loss: 0.6423, val_loss: 0.7952, val_acc: 0.7502\n",
      "Epoch [4], last_lr: 0.00556, train_loss: 0.5020, val_loss: 0.6427, val_acc: 0.7880\n",
      "Epoch [5], last_lr: 0.00283, train_loss: 0.4001, val_loss: 0.5297, val_acc: 0.8292\n",
      "Epoch [6], last_lr: 0.00077, train_loss: 0.2919, val_loss: 0.3082, val_acc: 0.8956\n",
      "Epoch [7], last_lr: 0.00000, train_loss: 0.2188, val_loss: 0.2777, val_acc: 0.9067\n",
      "CPU times: user 39 s, sys: 16.2 s, total: 55.3 s\n",
      "Wall time: 4min 39s\n"
     ]
    }
   ],
   "source": [
    "%%time\n",
    "history += fit_one_cycle(epochs, max_lr, model, train_dl, valid_dl, \n",
    "                             grad_clip=grad_clip, \n",
    "                             weight_decay=weight_decay, \n",
    "                             opt_func=opt_func)"
   ]
  },
  {
   "cell_type": "code",
   "execution_count": 27,
   "metadata": {
    "executionInfo": {
     "elapsed": 40,
     "status": "ok",
     "timestamp": 1626973576978,
     "user": {
      "displayName": "hexa Gaming",
      "photoUrl": "https://lh3.googleusercontent.com/a-/AOh14GioPiHsjshbRvilgujL55nxHkNzHM0CB_A9z5DBXA=s64",
      "userId": "11458632526511245276"
     },
     "user_tz": -330
    },
    "id": "BFQDobaMKlUd"
   },
   "outputs": [],
   "source": [
    "train_time='4:24'"
   ]
  },
  {
   "cell_type": "code",
   "execution_count": 28,
   "metadata": {
    "executionInfo": {
     "elapsed": 35,
     "status": "ok",
     "timestamp": 1626973576980,
     "user": {
      "displayName": "hexa Gaming",
      "photoUrl": "https://lh3.googleusercontent.com/a-/AOh14GioPiHsjshbRvilgujL55nxHkNzHM0CB_A9z5DBXA=s64",
      "userId": "11458632526511245276"
     },
     "user_tz": -330
    },
    "id": "FCQ3EZ6cKqIS"
   },
   "outputs": [],
   "source": [
    "def plot_accuracies(history):\n",
    "    accuracies = [x['val_acc'] for x in history]\n",
    "    plt.plot(accuracies, '-x')\n",
    "    plt.xlabel('epoch')\n",
    "    plt.ylabel('accuracy')\n",
    "    plt.title('Accuracy vs. No. of epochs');"
   ]
  },
  {
   "cell_type": "code",
   "execution_count": 29,
   "metadata": {
    "colab": {
     "base_uri": "https://localhost:8080/",
     "height": 295
    },
    "executionInfo": {
     "elapsed": 36,
     "status": "ok",
     "timestamp": 1626973576983,
     "user": {
      "displayName": "hexa Gaming",
      "photoUrl": "https://lh3.googleusercontent.com/a-/AOh14GioPiHsjshbRvilgujL55nxHkNzHM0CB_A9z5DBXA=s64",
      "userId": "11458632526511245276"
     },
     "user_tz": -330
    },
    "id": "X-mpDyHEKs8q",
    "outputId": "2142ec69-fa9c-46a9-dcee-fd74037c21da"
   },
   "outputs": [
    {
     "data": {
      "image/png": "[encoded data removed]",
      "text/plain": [
       "<Figure size 432x288 with 1 Axes>"
      ]
     },
     "metadata": {
      "tags": []
     },
     "output_type": "display_data"
    }
   ],
   "source": [
    "plot_accuracies(history)"
   ]
  },
  {
   "cell_type": "code",
   "execution_count": 30,
   "metadata": {
    "executionInfo": {
     "elapsed": 29,
     "status": "ok",
     "timestamp": 1626973576984,
     "user": {
      "displayName": "hexa Gaming",
      "photoUrl": "https://lh3.googleusercontent.com/a-/AOh14GioPiHsjshbRvilgujL55nxHkNzHM0CB_A9z5DBXA=s64",
      "userId": "11458632526511245276"
     },
     "user_tz": -330
    },
    "id": "UaLxTTsVKyNE"
   },
   "outputs": [],
   "source": [
    "def plot_losses(history):\n",
    "    train_losses = [x.get('train_loss') for x in history]\n",
    "    val_losses = [x['val_loss'] for x in history]\n",
    "    plt.plot(train_losses, '-bx')\n",
    "    plt.plot(val_losses, '-rx')\n",
    "    plt.xlabel('epoch')\n",
    "    plt.ylabel('loss')\n",
    "    plt.legend(['Training', 'Validation'])\n",
    "    plt.title('Loss vs. No. of epochs');"
   ]
  },
  {
   "cell_type": "code",
   "execution_count": 31,
   "metadata": {
    "colab": {
     "base_uri": "https://localhost:8080/",
     "height": 295
    },
    "executionInfo": {
     "elapsed": 1128,
     "status": "ok",
     "timestamp": 1626973578085,
     "user": {
      "displayName": "hexa Gaming",
      "photoUrl": "https://lh3.googleusercontent.com/a-/AOh14GioPiHsjshbRvilgujL55nxHkNzHM0CB_A9z5DBXA=s64",
      "userId": "11458632526511245276"
     },
     "user_tz": -330
    },
    "id": "2CgIBbleK01P",
    "outputId": "bd07513f-4922-4071-adae-7eea0dae6e07"
   },
   "outputs": [
    {
     "data": {
      "image/png": "[encoded data removed]",
      "text/plain": [
       "<Figure size 432x288 with 1 Axes>"
      ]
     },
     "metadata": {
      "tags": []
     },
     "output_type": "display_data"
    }
   ],
   "source": [
    "plot_losses(history)"
   ]
  },
  {
   "cell_type": "code",
   "execution_count": 33,
   "metadata": {
    "executionInfo": {
     "elapsed": 458,
     "status": "ok",
     "timestamp": 1626973668367,
     "user": {
      "displayName": "hexa Gaming",
      "photoUrl": "https://lh3.googleusercontent.com/a-/AOh14GioPiHsjshbRvilgujL55nxHkNzHM0CB_A9z5DBXA=s64",
      "userId": "11458632526511245276"
     },
     "user_tz": -330
    },
    "id": "iEIGiD4NK23Q"
   },
   "outputs": [],
   "source": [
    "# let's visualize how the learning rate changed over time, batch-by-batch over all the epochs.\n",
    "\n",
    "def plot_lrs(history):\n",
    "    lrs = np.concatenate([x.get('lrs', []) for x in history])\n",
    "    plt.plot(lrs)\n",
    "    plt.xlabel('Batch no.')\n",
    "    plt.ylabel('Learning rate')\n",
    "    plt.title('Learning Rate vs. Batch no.');"
   ]
  },
  {
   "cell_type": "code",
   "execution_count": 34,
   "metadata": {
    "colab": {
     "base_uri": "https://localhost:8080/",
     "height": 295
    },
    "executionInfo": {
     "elapsed": 797,
     "status": "ok",
     "timestamp": 1626973673184,
     "user": {
      "displayName": "hexa Gaming",
      "photoUrl": "https://lh3.googleusercontent.com/a-/AOh14GioPiHsjshbRvilgujL55nxHkNzHM0CB_A9z5DBXA=s64",
      "userId": "11458632526511245276"
     },
     "user_tz": -330
    },
    "id": "yA0pNDGnK5PJ",
    "outputId": "d1a719d1-1f4a-4c9e-98c9-b849cc01ac40"
   },
   "outputs": [
    {
     "data": {
      "image/png": "[encoded data removed]",
      "text/plain": [
       "<Figure size 432x288 with 1 Axes>"
      ]
     },
     "metadata": {
      "tags": []
     },
     "output_type": "display_data"
    }
   ],
   "source": [
    "plot_lrs(history)"
   ]
  },
  {
   "cell_type": "code",
   "execution_count": 35,
   "metadata": {
    "executionInfo": {
     "elapsed": 431,
     "status": "ok",
     "timestamp": 1626973677581,
     "user": {
      "displayName": "hexa Gaming",
      "photoUrl": "https://lh3.googleusercontent.com/a-/AOh14GioPiHsjshbRvilgujL55nxHkNzHM0CB_A9z5DBXA=s64",
      "userId": "11458632526511245276"
     },
     "user_tz": -330
    },
    "id": "nMmZL9GSK7oY"
   },
   "outputs": [],
   "source": [
    "def predict_image(img, model):\n",
    "    # Convert to a batch of 1\n",
    "    xb = to_device(img.unsqueeze(0), device)\n",
    "    # Get predictions from model\n",
    "    yb = model(xb)\n",
    "    # Pick index with highest probability\n",
    "    _, preds  = torch.max(yb, dim=1)\n",
    "    # Retrieve the class label\n",
    "    return train_ds.classes[preds[0].item()]"
   ]
  },
  {
   "cell_type": "code",
   "execution_count": 36,
   "metadata": {
    "colab": {
     "base_uri": "https://localhost:8080/",
     "height": 283
    },
    "executionInfo": {
     "elapsed": 1036,
     "status": "ok",
     "timestamp": 1626973682055,
     "user": {
      "displayName": "hexa Gaming",
      "photoUrl": "https://lh3.googleusercontent.com/a-/AOh14GioPiHsjshbRvilgujL55nxHkNzHM0CB_A9z5DBXA=s64",
      "userId": "11458632526511245276"
     },
     "user_tz": -330
    },
    "id": "NFgDQYekLCVd",
    "outputId": "8a2932d0-45c5-4129-a29b-92967a35f2c0"
   },
   "outputs": [
    {
     "name": "stdout",
     "output_type": "stream",
     "text": [
      "Label: airplane , Predicted: airplane\n"
     ]
    },
    {
     "data": {
      "image/png": "[encoded data removed]",
      "text/plain": [
       "<Figure size 432x288 with 1 Axes>"
      ]
     },
     "metadata": {
      "tags": []
     },
     "output_type": "display_data"
    }
   ],
   "source": [
    "img, label = valid_ds[0]\n",
    "plt.imshow(img.permute(1, 2, 0).clamp(0, 1))\n",
    "print('Label:', train_ds.classes[label], ', Predicted:', predict_image(img, model))"
   ]
  },
  {
   "cell_type": "code",
   "execution_count": 37,
   "metadata": {
    "colab": {
     "base_uri": "https://localhost:8080/",
     "height": 300
    },
    "executionInfo": {
     "elapsed": 763,
     "status": "ok",
     "timestamp": 1626973685223,
     "user": {
      "displayName": "hexa Gaming",
      "photoUrl": "https://lh3.googleusercontent.com/a-/AOh14GioPiHsjshbRvilgujL55nxHkNzHM0CB_A9z5DBXA=s64",
      "userId": "11458632526511245276"
     },
     "user_tz": -330
    },
    "id": "C2vlHzFbLFd6",
    "outputId": "a2292453-0998-47ee-d5b6-52411b1da355"
   },
   "outputs": [
    {
     "name": "stderr",
     "output_type": "stream",
     "text": [
      "Clipping input data to the valid range for imshow with RGB data ([0..1] for floats or [0..255] for integers).\n"
     ]
    },
    {
     "name": "stdout",
     "output_type": "stream",
     "text": [
      "Label: automobile , Predicted: truck\n"
     ]
    },
    {
     "data": {
      "image/png": "[encoded data removed]",
      "text/plain": [
       "<Figure size 432x288 with 1 Axes>"
      ]
     },
     "metadata": {
      "tags": []
     },
     "output_type": "display_data"
    }
   ],
   "source": [
    "img, label = valid_ds[1002]\n",
    "plt.imshow(img.permute(1, 2, 0))\n",
    "print('Label:', valid_ds.classes[label], ', Predicted:', predict_image(img, model))\n"
   ]
  },
  {
   "cell_type": "code",
   "execution_count": 38,
   "metadata": {
    "colab": {
     "base_uri": "https://localhost:8080/",
     "height": 300
    },
    "executionInfo": {
     "elapsed": 902,
     "status": "ok",
     "timestamp": 1626973686998,
     "user": {
      "displayName": "hexa Gaming",
      "photoUrl": "https://lh3.googleusercontent.com/a-/AOh14GioPiHsjshbRvilgujL55nxHkNzHM0CB_A9z5DBXA=s64",
      "userId": "11458632526511245276"
     },
     "user_tz": -330
    },
    "id": "TOfcXCEhLIKL",
    "outputId": "ee39971d-c7d4-4533-b59d-4d6415ec6472"
   },
   "outputs": [
    {
     "name": "stderr",
     "output_type": "stream",
     "text": [
      "Clipping input data to the valid range for imshow with RGB data ([0..1] for floats or [0..255] for integers).\n"
     ]
    },
    {
     "name": "stdout",
     "output_type": "stream",
     "text": [
      "Label: frog , Predicted: frog\n"
     ]
    },
    {
     "data": {
      "image/png": "[encoded data removed]",
      "text/plain": [
       "<Figure size 432x288 with 1 Axes>"
      ]
     },
     "metadata": {
      "tags": []
     },
     "output_type": "display_data"
    }
   ],
   "source": [
    "img, label = valid_ds[6153]\n",
    "plt.imshow(img.permute(1, 2, 0))\n",
    "print('Label:', train_ds.classes[label], ', Predicted:', predict_image(img, model))"
   ]
  },
  {
   "cell_type": "code",
   "execution_count": 39,
   "metadata": {
    "executionInfo": {
     "elapsed": 654,
     "status": "ok",
     "timestamp": 1626973714764,
     "user": {
      "displayName": "hexa Gaming",
      "photoUrl": "https://lh3.googleusercontent.com/a-/AOh14GioPiHsjshbRvilgujL55nxHkNzHM0CB_A9z5DBXA=s64",
      "userId": "11458632526511245276"
     },
     "user_tz": -330
    },
    "id": "NB7BofZkLQrS"
   },
   "outputs": [],
   "source": [
    "torch.save(model.state_dict(), 'cifar10-resnet9.pth')"
   ]
  },
  {
   "cell_type": "code",
   "execution_count": 40,
   "metadata": {
    "executionInfo": {
     "elapsed": 3205,
     "status": "ok",
     "timestamp": 1626973730496,
     "user": {
      "displayName": "hexa Gaming",
      "photoUrl": "https://lh3.googleusercontent.com/a-/AOh14GioPiHsjshbRvilgujL55nxHkNzHM0CB_A9z5DBXA=s64",
      "userId": "11458632526511245276"
     },
     "user_tz": -330
    },
    "id": "dFnKScrUMLQy"
   },
   "outputs": [],
   "source": [
    "!pip install jovian --upgrade --quiet"
   ]
  },
  {
   "cell_type": "code",
   "execution_count": 41,
   "metadata": {
    "executionInfo": {
     "elapsed": 443,
     "status": "ok",
     "timestamp": 1626973738887,
     "user": {
      "displayName": "hexa Gaming",
      "photoUrl": "https://lh3.googleusercontent.com/a-/AOh14GioPiHsjshbRvilgujL55nxHkNzHM0CB_A9z5DBXA=s64",
      "userId": "11458632526511245276"
     },
     "user_tz": -330
    },
    "id": "ZkXEtbQdMOd7"
   },
   "outputs": [],
   "source": [
    "import jovian"
   ]
  },
  {
   "cell_type": "code",
   "execution_count": null,
   "metadata": {
    "id": "xCVABETaMRM_"
   },
   "outputs": [],
   "source": []
  }
 ],
 "metadata": {
  "accelerator": "GPU",
  "colab": {
   "name": "cnn-normalise.ipynb",
   "provenance": []
  },
  "language_info": {
   "codemirror_mode": {
    "name": "ipython",
    "version": 3
   },
   "file_extension": ".py",
   "mimetype": "text/x-python",
   "name": "python",
   "nbconvert_exporter": "python",
   "pygments_lexer": "ipython3",
   "version": "3.7.6"
  },
  "widgets": {
   "application/vnd.jupyter.widget-state+json": {
    "29b0eb2994a243809fb5b5718bc97a72": {
     "model_module": "@jupyter-widgets/base",
     "model_name": "LayoutModel",
     "state": {
      "_model_module": "@jupyter-widgets/base",
      "_model_module_version": "1.2.0",
      "_model_name": "LayoutModel",
      "_view_count": null,
      "_view_module": "@jupyter-widgets/base",
      "_view_module_version": "1.2.0",
      "_view_name": "LayoutView",
      "align_content": null,
      "align_items": null,
      "align_self": null,
      "border": null,
      "bottom": null,
      "display": null,
      "flex": null,
      "flex_flow": null,
      "grid_area": null,
      "grid_auto_columns": null,
      "grid_auto_flow": null,
      "grid_auto_rows": null,
      "grid_column": null,
      "grid_gap": null,
      "grid_row": null,
      "grid_template_areas": null,
      "grid_template_columns": null,
      "grid_template_rows": null,
      "height": null,
      "justify_content": null,
      "justify_items": null,
      "left": null,
      "margin": null,
      "max_height": null,
      "max_width": null,
      "min_height": null,
      "min_width": null,
      "object_fit": null,
      "object_position": null,
      "order": null,
      "overflow": null,
      "overflow_x": null,
      "overflow_y": null,
      "padding": null,
      "right": null,
      "top": null,
      "visibility": null,
      "width": null
     }
    },
    "35f2dfbe546a4048b7eb039c9f222e21": {
     "model_module": "@jupyter-widgets/base",
     "model_name": "LayoutModel",
     "state": {
      "_model_module": "@jupyter-widgets/base",
      "_model_module_version": "1.2.0",
      "_model_name": "LayoutModel",
      "_view_count": null,
      "_view_module": "@jupyter-widgets/base",
      "_view_module_version": "1.2.0",
      "_view_name": "LayoutView",
      "align_content": null,
      "align_items": null,
      "align_self": null,
      "border": null,
      "bottom": null,
      "display": null,
      "flex": null,
      "flex_flow": null,
      "grid_area": null,
      "grid_auto_columns": null,
      "grid_auto_flow": null,
      "grid_auto_rows": null,
      "grid_column": null,
      "grid_gap": null,
      "grid_row": null,
      "grid_template_areas": null,
      "grid_template_columns": null,
      "grid_template_rows": null,
      "height": null,
      "justify_content": null,
      "justify_items": null,
      "left": null,
      "margin": null,
      "max_height": null,
      "max_width": null,
      "min_height": null,
      "min_width": null,
      "object_fit": null,
      "object_position": null,
      "order": null,
      "overflow": null,
      "overflow_x": null,
      "overflow_y": null,
      "padding": null,
      "right": null,
      "top": null,
      "visibility": null,
      "width": null
     }
    },
    "4d5aa752daaf4f71b7b3999212cc8474": {
     "model_module": "@jupyter-widgets/controls",
     "model_name": "ProgressStyleModel",
     "state": {
      "_model_module": "@jupyter-widgets/controls",
      "_model_module_version": "1.5.0",
      "_model_name": "ProgressStyleModel",
      "_view_count": null,
      "_view_module": "@jupyter-widgets/base",
      "_view_module_version": "1.2.0",
      "_view_name": "StyleView",
      "bar_color": null,
      "description_width": "initial"
     }
    },
    "5cf5f1feb51f4eeeab94cb7ab7342f98": {
     "model_module": "@jupyter-widgets/controls",
     "model_name": "FloatProgressModel",
     "state": {
      "_dom_classes": [],
      "_model_module": "@jupyter-widgets/controls",
      "_model_module_version": "1.5.0",
      "_model_name": "FloatProgressModel",
      "_view_count": null,
      "_view_module": "@jupyter-widgets/controls",
      "_view_module_version": "1.5.0",
      "_view_name": "ProgressView",
      "bar_style": "success",
      "description": "",
      "description_tooltip": null,
      "layout": "IPY_MODEL_29b0eb2994a243809fb5b5718bc97a72",
      "max": 135107811,
      "min": 0,
      "orientation": "horizontal",
      "style": "IPY_MODEL_4d5aa752daaf4f71b7b3999212cc8474",
      "value": 135107811
     }
    },
    "737c7ab7812c430c960898443ecf4e24": {
     "model_module": "@jupyter-widgets/controls",
     "model_name": "DescriptionStyleModel",
     "state": {
      "_model_module": "@jupyter-widgets/controls",
      "_model_module_version": "1.5.0",
      "_model_name": "DescriptionStyleModel",
      "_view_count": null,
      "_view_module": "@jupyter-widgets/base",
      "_view_module_version": "1.2.0",
      "_view_name": "StyleView",
      "description_width": ""
     }
    },
    "88e2f9f8294743aa93e2f91e8e482301": {
     "model_module": "@jupyter-widgets/controls",
     "model_name": "HBoxModel",
     "state": {
      "_dom_classes": [],
      "_model_module": "@jupyter-widgets/controls",
      "_model_module_version": "1.5.0",
      "_model_name": "HBoxModel",
      "_view_count": null,
      "_view_module": "@jupyter-widgets/controls",
      "_view_module_version": "1.5.0",
      "_view_name": "HBoxView",
      "box_style": "",
      "children": [
       "IPY_MODEL_5cf5f1feb51f4eeeab94cb7ab7342f98",
       "IPY_MODEL_dd4cef546bfd4e1b825fc82a2668f7b3"
      ],
      "layout": "IPY_MODEL_c119857ab01e4cfeb50a884e0d6af227"
     }
    },
    "c119857ab01e4cfeb50a884e0d6af227": {
     "model_module": "@jupyter-widgets/base",
     "model_name": "LayoutModel",
     "state": {
      "_model_module": "@jupyter-widgets/base",
      "_model_module_version": "1.2.0",
      "_model_name": "LayoutModel",
      "_view_count": null,
      "_view_module": "@jupyter-widgets/base",
      "_view_module_version": "1.2.0",
      "_view_name": "LayoutView",
      "align_content": null,
      "align_items": null,
      "align_self": null,
      "border": null,
      "bottom": null,
      "display": null,
      "flex": null,
      "flex_flow": null,
      "grid_area": null,
      "grid_auto_columns": null,
      "grid_auto_flow": null,
      "grid_auto_rows": null,
      "grid_column": null,
      "grid_gap": null,
      "grid_row": null,
      "grid_template_areas": null,
      "grid_template_columns": null,
      "grid_template_rows": null,
      "height": null,
      "justify_content": null,
      "justify_items": null,
      "left": null,
      "margin": null,
      "max_height": null,
      "max_width": null,
      "min_height": null,
      "min_width": null,
      "object_fit": null,
      "object_position": null,
      "order": null,
      "overflow": null,
      "overflow_x": null,
      "overflow_y": null,
      "padding": null,
      "right": null,
      "top": null,
      "visibility": null,
      "width": null
     }
    },
    "dd4cef546bfd4e1b825fc82a2668f7b3": {
     "model_module": "@jupyter-widgets/controls",
     "model_name": "HTMLModel",
     "state": {
      "_dom_classes": [],
      "_model_module": "@jupyter-widgets/controls",
      "_model_module_version": "1.5.0",
      "_model_name": "HTMLModel",
      "_view_count": null,
      "_view_module": "@jupyter-widgets/controls",
      "_view_module_version": "1.5.0",
      "_view_name": "HTMLView",
      "description": "",
      "description_tooltip": null,
      "layout": "IPY_MODEL_35f2dfbe546a4048b7eb039c9f222e21",
      "placeholder": "​",
      "style": "IPY_MODEL_737c7ab7812c430c960898443ecf4e24",
      "value": " 135108608/? [00:15&lt;00:00, 8946188.75it/s]"
     }
    }
   }
  }
 },
 "nbformat": 4,
 "nbformat_minor": 0
}